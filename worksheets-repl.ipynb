{
 "cells": [
  {
   "cell_type": "markdown",
   "metadata": {},
   "source": [
    "# Notebooks are Worksheets in a REPL"
   ]
  },
  {
   "cell_type": "markdown",
   "metadata": {},
   "source": [
    "## Each single code cell is like a worksheet\n",
    "\n",
    "* Editor to easily add and edit multiple expressions\n",
    "* Hitting run always evaluates **all** expressions in that cell (no need to track dependent expressions)\n",
    "* Persistent: persists to a notebook document\n",
    "  * Also saves the outputs\n",
    "* Differences\n",
    "  * Limited IDE features\n",
    "  * Outputs are shown below the cell by default"
   ]
  },
  {
   "cell_type": "code",
   "execution_count": null,
   "metadata": {},
   "outputs": [],
   "source": [
    "val salaries = Seq(20000, 70000, 40000)\n",
    "val doubleSalary = (x: Int) => x * 2\n",
    "val newSalaries = salaries.map(doubleSalary)\n",
    "salaries.map(x => x * 3)"
   ]
  },
  {
   "cell_type": "markdown",
   "metadata": {},
   "source": [
    "## Code cells of a Notebook **as a whole** behave more like a REPL\n",
    "\n",
    " * We can run cells independently for better control when to run specific code\n",
    " * Previous results are cached in memory"
   ]
  },
  {
   "cell_type": "code",
   "execution_count": null,
   "metadata": {},
   "outputs": [],
   "source": [
    "val bigData = {\n",
    "  Thread.sleep(3000)\n",
    "  42\n",
    "}"
   ]
  },
  {
   "cell_type": "code",
   "execution_count": null,
   "metadata": {},
   "outputs": [],
   "source": [
    "bigData * 3"
   ]
  },
  {
   "cell_type": "code",
   "execution_count": null,
   "metadata": {},
   "outputs": [],
   "source": [
    "bigData * 4"
   ]
  },
  {
   "cell_type": "markdown",
   "metadata": {},
   "source": [
    "## Notebooks give us even more flexibility for prototyping\n",
    "\n",
    "* Select multiple cells\n",
    "* Selectively run a single cell, multiple cells or all cells\n",
    "* Move cells around\n",
    "* Copy/paste cells (within a notebook or between notebooks)\n",
    "* Split & merge"
   ]
  }
 ],
 "metadata": {
  "kernelspec": {
   "display_name": "Scala",
   "language": "scala",
   "name": "scala"
  },
  "language_info": {
   "codemirror_mode": "text/x-scala",
   "file_extension": ".scala",
   "mimetype": "text/x-scala",
   "name": "scala",
   "nbconvert_exporter": "script",
   "version": "2.12.8"
  }
 },
 "nbformat": 4,
 "nbformat_minor": 2
}
