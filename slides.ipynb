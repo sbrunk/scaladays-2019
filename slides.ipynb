{
 "cells": [
  {
   "cell_type": "markdown",
   "metadata": {
    "cell_style": "center",
    "slideshow": {
     "slide_type": "slide"
    }
   },
   "source": [
    "<div>\n",
    "    <h1 style=\"text-align: center; margin-top: 20%; margin-bottom: 22%; font-size: 2.5em\">\n",
    "      Interactive Computing with Jupyter and Almond</h1>\n",
    "</div>\n",
    "\n",
    "<img src=\"img/logo-katana.svg\" class=\"float-left\" style=\"margin-bottom: 0\" width=\"20%\"/>\n",
    "\n",
    "<p class=\"float-right\" style=\"text-align: right\">Sören Brunk<br>\n",
    "<img style=\"display: inline; height: 1em\" src=\"img/Twitter_bird_logo_2012.svg\"  /> @soebrunk</p>"
   ]
  },
  {
   "cell_type": "markdown",
   "metadata": {
    "slideshow": {
     "slide_type": "slide"
    }
   },
   "source": [
    "# How Do We learn?"
   ]
  },
  {
   "cell_type": "markdown",
   "metadata": {
    "slideshow": {
     "slide_type": "fragment"
    }
   },
   "source": [
    "<img src=\"img/learning-phases.svg\" width=\"80%\" style=\"margin: 20rem auto;\" />"
   ]
  },
  {
   "cell_type": "markdown",
   "metadata": {
    "slideshow": {
     "slide_type": "slide"
    }
   },
   "source": [
    "# Exploration is a Feedback Loop"
   ]
  },
  {
   "cell_type": "markdown",
   "metadata": {
    "cell_style": "split",
    "slideshow": {
     "slide_type": "-"
    }
   },
   "source": [
    "\n",
    "\n",
    "<div style=\"margin-top:4%\">\n",
    "\n",
    "<img width=\"90%\" src=\"img/exploration_feedback_loop.svg\"/>\n",
    "\n",
    "\n",
    "</div>\n",
    "\n",
    "\n"
   ]
  },
  {
   "cell_type": "markdown",
   "metadata": {
    "cell_style": "split",
    "slideshow": {
     "slide_type": "fragment"
    }
   },
   "source": [
    "<p style=\"margin: 0 auto\">\n",
    "    <img style=\"margin: 0 auto\" src=\"img/fast-feedback.jpg\" width=\"100%\"/>\n",
    "</p>"
   ]
  },
  {
   "cell_type": "markdown",
   "metadata": {
    "slideshow": {
     "slide_type": "slide"
    }
   },
   "source": [
    "# Interactive Computing"
   ]
  },
  {
   "cell_type": "markdown",
   "metadata": {
    "slideshow": {
     "slide_type": "-"
    }
   },
   "source": [
    "> An Interactive computation is a persistent computer program that runs with a \"human in the loop,\" where the primary mode of interaction is through the human interactively writing/running blocks of code and looking at the result.\n",
    ">  \n",
    ">  &mdash; Brian Granger (co-founder of Project Jupyter)"
   ]
  },
  {
   "cell_type": "markdown",
   "metadata": {
    "cell_style": "center",
    "slideshow": {
     "slide_type": "slide"
    }
   },
   "source": [
    "<h1 align=\"center\">The Scala 2 REPL</h1>\n",
    "\n",
    "<img src=\"img/repl.png\" width=\"75%\" />"
   ]
  },
  {
   "cell_type": "markdown",
   "metadata": {
    "cell_style": "center",
    "slideshow": {
     "slide_type": "subslide"
    }
   },
   "source": [
    "<h1 align=\"center\">Ammonite</h1>\n",
    "\n",
    "<img src=\"img/ammonite-screenshot.png\" width=\"75%\" />"
   ]
  },
  {
   "cell_type": "markdown",
   "metadata": {
    "slideshow": {
     "slide_type": "subslide"
    }
   },
   "source": [
    "# Limitations of the REPL Design"
   ]
  },
  {
   "cell_type": "markdown",
   "metadata": {
    "cell_style": "center",
    "slideshow": {
     "slide_type": "fragment"
    }
   },
   "source": [
    "* Optimized for **exploration from scratch**\n",
    " * Write code and see outputs fast (feedback loop)\n",
    "* Not ideal for reading, copying or changing code\n",
    "   * Interleaved inputs and outputs\n",
    "   * History cluttered with refinement attempts\n",
    "   * Dependent expressions\n",
    "* Sharing is difficult\n",
    "  * Not persistent except history\n",
    "* **Observe and replicate phases not part the of REPL design**\n",
    "\n",
    "<img  src=\"img/learning-phase-explore.svg\" width=\"50%\" />"
   ]
  },
  {
   "cell_type": "markdown",
   "metadata": {
    "slideshow": {
     "slide_type": "slide"
    }
   },
   "source": [
    "<h1 align=\"center\">Learning with the REPL</h1>\n",
    "\n",
    "<img src=\"img/browser-repl-screenshot.png\" width=\"70%\" />\n",
    "\n",
    "<img  src=\"img/learning-phase-explore.svg\" width=\"50%\" />"
   ]
  },
  {
   "cell_type": "markdown",
   "metadata": {
    "slideshow": {
     "slide_type": "slide"
    }
   },
   "source": [
    "# Worksheets\n",
    "\n",
    "> A worksheet is a Scala file that is evaluated on save, and the result of each expression is shown in a column to the right of your program. Worksheets are like a REPL session on steroids, and enjoy 1st class editor support: completion, hyperlinking, interactive errors-as-you-type, etc.\n",
    ">\n",
    ">  &mdash; <em>Source: <a href=\"https://dotty.epfl.ch/docs/usage/worksheet-mode.html\">Dotty documentation</a></em>\n",
    "\n",
    "<img src=\"img/dotty-worksheet.png\" width=\"75%\" />"
   ]
  },
  {
   "cell_type": "markdown",
   "metadata": {
    "slideshow": {
     "slide_type": "subslide"
    }
   },
   "source": [
    "# Online Worksheets\n",
    "\n",
    "<img src=\"img/scastie1.png\" width=\"90%\" />\n",
    "\n",
    "<img src=\"img/scalafiddle1.png\" width=\"90%\" />"
   ]
  },
  {
   "cell_type": "markdown",
   "metadata": {
    "slideshow": {
     "slide_type": "subslide"
    }
   },
   "source": [
    "# Learning with Worksheets\n",
    "\n",
    "<img src=\"img/browser-worksheet-screenshot.png\" width=\"90%\" />\n",
    "\n",
    "<img style=\"clear: both\" src=\"img/learning-phase-explore-replicate.svg\" width=\"45%\" />"
   ]
  },
  {
   "cell_type": "markdown",
   "metadata": {
    "cell_style": "center",
    "slideshow": {
     "slide_type": "subslide"
    }
   },
   "source": [
    "# A More Integrated Experience?"
   ]
  },
  {
   "cell_type": "markdown",
   "metadata": {
    "cell_style": "center",
    "slideshow": {
     "slide_type": "-"
    }
   },
   "source": [
    "<div style=\"background: #5CC6E4; min-height: 120px; margin:0 -20px;\">\n",
    "<p style=\"text-transform: uppercase;\n",
    "    font-weight: 900;\n",
    "    font-size: 2.875rem;\n",
    "    color: #2c90ad;\n",
    "    margin-bottom:0;\n",
    "    padding-top: 2rem;\n",
    "    padding-left: 2rem\">\n",
    "Tour of Scala</p>\n",
    "<p style=\"font-size: 3.875rem;\n",
    "    font-family: 'Lato', sans-serif;\n",
    "    padding-top: 0rem;\n",
    "    padding-left: 2rem;\n",
    "    text-transform: uppercase;\n",
    "    text-shadow: rgba(0, 43, 54, 0.1) 2px 2px 0;\n",
    "    color: #fff;\n",
    "    font-weight: 900;\n",
    "    margin: 0;\">Higher-Order-Functions\n",
    "</p>\n",
    "</div>\n",
    "\n",
    "<p style=\"font-size: 0.8em\">Higher order functions take other functions as parameters or return other functions ...</p>\n",
    "<p style=\"font-size: 0.8em\">One of the most common examples is the higher-order function <code>map</code> which is available for collections in Scala.</p>"
   ]
  },
  {
   "cell_type": "code",
   "execution_count": null,
   "metadata": {
    "cell_style": "center",
    "scrolled": true,
    "slideshow": {
     "slide_type": "-"
    }
   },
   "outputs": [],
   "source": [
    "val salaries = Seq(20000, 70000, 40000)\n",
    "val doubleSalary = (x: Int) => x * 2\n",
    "val newSalaries = salaries.map(doubleSalary)\n",
    "salaries.map(x => x *3)"
   ]
  },
  {
   "cell_type": "markdown",
   "metadata": {
    "slideshow": {
     "slide_type": "-"
    }
   },
   "source": [
    "<p style=\"font-size: 0.8em\"><code>doubleSalary</code> is a function which takes a single Int, <code>x</code>, and returns <code>x * 2</code>. In general, the tuple on the left of the arrow <code>=></code> is a parameter list and the value of the expression on the right is what gets returned. On line 3, the function <code>doubleSalary</code> gets applied to each element in the\n",
    "list of salaries.</p>"
   ]
  },
  {
   "cell_type": "markdown",
   "metadata": {
    "slideshow": {
     "slide_type": "subslide"
    }
   },
   "source": [
    "<h1 align=\"center\">How?</h1>"
   ]
  },
  {
   "cell_type": "markdown",
   "metadata": {
    "slideshow": {
     "slide_type": "fragment"
    }
   },
   "source": [
    "* We're actually in a Jupyter notebook!\n",
    "* It's just shown as a slideshow (using the RISE plugin)\n",
    "* Usually, it looks more like this:\n",
    "\n",
    "<img style=\"border: 1px solid gray;\" src=\"img/jupyter-notebook-screenshot.png\" width=\"80%\" />"
   ]
  },
  {
   "cell_type": "markdown",
   "metadata": {
    "slideshow": {
     "slide_type": "slide"
    }
   },
   "source": [
    "<h1 align=\"center\">Notebook Basics</h1>\n",
    "\n",
    "* Jupyter notebooks are **interactive, web based documents**\n",
    "* They are made of **cells**\n",
    "* Two cell types\n",
    " * **Documentation**\n",
    " * **Code**"
   ]
  },
  {
   "cell_type": "markdown",
   "metadata": {
    "slideshow": {
     "slide_type": "subslide"
    }
   },
   "source": [
    "# Documentation Cells\n",
    "\n",
    "* All the **usual** [Markdown](https://daringfireball.net/projects/markdown/) *formatting* `options`\n",
    "* Images ![Scala](http://localhost:8888/static/base/images/logo.png)\n",
    "* Code fences\n",
    "```scala\n",
    "val x = 23\n",
    "```\n",
    "* LaTeX equations $$e^x=\\sum_{i=0}^\\infty \\frac{1}{i!}x^i$$\n",
    "* We can **edit them right in the browser!**\n",
    "* Even during a presentation!"
   ]
  },
  {
   "cell_type": "markdown",
   "metadata": {
    "slideshow": {
     "slide_type": "subslide"
    }
   },
   "source": [
    "# Code Cells\n",
    "\n",
    "* Write code\n",
    "* Evaluate code"
   ]
  },
  {
   "cell_type": "code",
   "execution_count": null,
   "metadata": {
    "slideshow": {
     "slide_type": "-"
    }
   },
   "outputs": [],
   "source": [
    "case class Person(name: String, age: Int)\n",
    "\n",
    "val alice = Person(\"alice\", 42)\n",
    "val bob = Person(\"bob\", 43)\n",
    "\n",
    "Seq(alice, bob).map(_.name.capitalize)"
   ]
  },
  {
   "cell_type": "markdown",
   "metadata": {
    "slideshow": {
     "slide_type": "subslide"
    }
   },
   "source": [
    "# Mix and Match\n",
    "\n",
    "* We can have any number of cells in a notebook\n",
    "* We can freely mix code cells with documentations cells"
   ]
  },
  {
   "cell_type": "code",
   "execution_count": null,
   "metadata": {
    "scrolled": false,
    "slideshow": {
     "slide_type": "-"
    }
   },
   "outputs": [],
   "source": [
    "\"I'm a code cell, evaluate me!\""
   ]
  },
  {
   "cell_type": "code",
   "execution_count": null,
   "metadata": {
    "scrolled": true,
    "slideshow": {
     "slide_type": "-"
    }
   },
   "outputs": [],
   "source": [
    "println(\"I'm so effectful!\")"
   ]
  },
  {
   "cell_type": "markdown",
   "metadata": {
    "cell_style": "split",
    "slideshow": {
     "slide_type": "-"
    }
   },
   "source": [
    "* We can even put cells side-by-side   \n",
    "  (with the help of a plugin)"
   ]
  },
  {
   "cell_type": "code",
   "execution_count": null,
   "metadata": {
    "cell_style": "split",
    "scrolled": false,
    "slideshow": {
     "slide_type": "-"
    }
   },
   "outputs": [],
   "source": [
    "\"I'm smaller, but you can still evaluate me.\""
   ]
  },
  {
   "cell_type": "markdown",
   "metadata": {
    "slideshow": {
     "slide_type": "slide"
    }
   },
   "source": [
    "# Notebooks Integrate Rich Documentation with Runnable Code\n",
    "\n",
    "<img style=\"width: 45%;\" src=\"img/browser-repl-screenshot-cropped.png\"/>\n",
    "\n",
    "<div style=\"text-align:center; font-size: 1.5em;\">⬇</div>\n",
    "<img src=\"img/jupyter-notebook-screenshot.png\" width=\"45%\" />\n",
    "\n",
    "<img style=\"clear: both\" src=\"img/learning-phases-only.svg\" width=\"45%\" />"
   ]
  },
  {
   "cell_type": "markdown",
   "metadata": {
    "slideshow": {
     "slide_type": "slide"
    }
   },
   "source": [
    "# Notebooks are Worksheets in a REPL\n",
    "\n",
    "<img src=\"img/repl-worksheets.png\" width=\"60%\" />\n",
    "\n",
    "<div style=\"text-align:center; font-size: 2em;\">⬇</div>\n",
    "<img src=\"img/jupyter-notebook-screenshot.png\" width=\"52%\" />"
   ]
  },
  {
   "cell_type": "markdown",
   "metadata": {
    "slideshow": {
     "slide_type": "subslide"
    }
   },
   "source": [
    "# Notebooks are Worksheets in a REPL\n",
    "\n",
    "# &rarr; [DEMO](http://localhost:8888/lab/tree/worksheets-repl.ipynb) &larr;"
   ]
  },
  {
   "cell_type": "markdown",
   "metadata": {
    "slideshow": {
     "slide_type": "slide"
    }
   },
   "source": [
    "# Exploring Data with the REPL\n",
    "\n",
    "<img src=\"img/spark-shell-viz.png\" width=\"70%\" />"
   ]
  },
  {
   "cell_type": "markdown",
   "metadata": {
    "slideshow": {
     "slide_type": "subslide"
    }
   },
   "source": [
    "# Exploring Data with Notebooks"
   ]
  },
  {
   "cell_type": "code",
   "execution_count": null,
   "metadata": {
    "scrolled": false,
    "slideshow": {
     "slide_type": "-"
    }
   },
   "outputs": [],
   "source": [
    "interp.repositories() ++= Seq(coursier.maven.MavenRepository(\"https://jitpack.io\"))\n",
    "import $ivy.`org.apache.spark::spark-sql:2.4.3` // Or use any other 2.x version here\n",
    "import $ivy.`sh.almond::almond-spark:0.5.0`\n",
    "import org.apache.spark.sql._, org.apache.log4j.{Level, Logger}\n",
    "Logger.getLogger(\"org\").setLevel(Level.OFF)\n",
    "\n",
    "val spark = {\n",
    "  NotebookSparkSession.builder()\n",
    "    .progress(false)\n",
    "    .master(\"local[*]\")\n",
    "    .getOrCreate()\n",
    "}\n",
    "def sc = spark.sparkContext"
   ]
  },
  {
   "cell_type": "markdown",
   "metadata": {
    "slideshow": {
     "slide_type": "subslide"
    }
   },
   "source": [
    "# Exploring Data with Notebooks"
   ]
  },
  {
   "cell_type": "code",
   "execution_count": null,
   "metadata": {
    "scrolled": true,
    "slideshow": {
     "slide_type": "-"
    }
   },
   "outputs": [],
   "source": [
    "import spark.implicits._\n",
    "import $file.SparkHelpers, SparkHelpers._\n",
    "\n",
    "val titanic = spark.read\n",
    "  .format(\"csv\")\n",
    "  .option(\"inferSchema\", \"true\").option(\"header\", \"true\")\n",
    "  .load(\"titanic.csv\")\n",
    "\n",
    "titanic.showHTML()"
   ]
  },
  {
   "cell_type": "markdown",
   "metadata": {
    "slideshow": {
     "slide_type": "subslide"
    }
   },
   "source": [
    "# Exploring Data with Notebooks"
   ]
  },
  {
   "cell_type": "code",
   "execution_count": null,
   "metadata": {
    "scrolled": false,
    "slideshow": {
     "slide_type": "-"
    }
   },
   "outputs": [],
   "source": [
    "import $ivy.`org.vegas-viz::vegas-spark:0.3.12-SNAPSHOT`\n",
    "import vegas._, vegas.data.External._, vegas.sparkExt._\n",
    "Vegas().\n",
    "  withDataFrame(titanic).\n",
    "  mark(vegas.Bar).\n",
    "  encodeY(\"*\", aggregate=AggOps.Count, axis=vegas.Axis(title=\"Number of People\", grid=false)).\n",
    "  encodeColumn(\"Pclass\", Ord, scale=Scale(padding=16.0), axis=vegas.Axis(orient=Orient.Bottom, axisWidth=1.0, offset= -8.0)).\n",
    "  encodeX(\"Survived\", Nominal, scale=Scale(bandSize = 20.0), hideAxis=true).\n",
    "  encodeColor(\"Survived\", Nominal, scale=Scale(rangeNominals=List(\"red\", \"green\"))).\n",
    "  configFacet(cell=CellConfig(strokeWidth = 0)).configCell(height=400).show"
   ]
  },
  {
   "cell_type": "markdown",
   "metadata": {
    "slideshow": {
     "slide_type": "subslide"
    }
   },
   "source": [
    "# Exploring Data with Notebooks"
   ]
  },
  {
   "cell_type": "code",
   "execution_count": null,
   "metadata": {
    "scrolled": false,
    "slideshow": {
     "slide_type": "fragment"
    }
   },
   "outputs": [],
   "source": [
    "import $ivy.`org.plotly-scala::plotly-almond:0.7.0`\n",
    "import plotly._, plotly.element._, plotly.layout._, plotly.Almond._\n",
    "\n",
    "val trace1 = plotly.Bar(\n",
    "  Seq(\"giraffes\", \"orangutans\", \"monkeys\"), Seq(20, 14, 23), name = \"SF Zoo\"\n",
    ")\n",
    "val trace2 = plotly.Bar(\n",
    "  Seq(\"giraffes\", \"orangutans\", \"monkeys\"), Seq(15, 18, 29), name = \"LA Zoo\"\n",
    ")\n",
    "val data = Seq(trace1, trace2)\n",
    "val layout = Layout(barmode = BarMode.Group)\n",
    "\n",
    "plot(data, layout)"
   ]
  },
  {
   "cell_type": "markdown",
   "metadata": {
    "slideshow": {
     "slide_type": "notes"
    }
   },
   "source": [
    "But we aren't restricted to visualizing data. We can also visualize code."
   ]
  },
  {
   "cell_type": "markdown",
   "metadata": {
    "slideshow": {
     "slide_type": "subslide"
    }
   },
   "source": [
    "# Visualizing Code with Notebooks"
   ]
  },
  {
   "cell_type": "code",
   "execution_count": null,
   "metadata": {
    "scrolled": true,
    "slideshow": {
     "slide_type": "-"
    }
   },
   "outputs": [],
   "source": [
    "import $ivy.`io.github.stanch::reftree:1.4.0`\n",
    "import reftree.render._, reftree.diagram._, reftree.contrib.SimplifiedInstances.string\n",
    "\n",
    "case class Person(name: String, age: Int)\n",
    "val people = List(Person(\"Alice\", 29), Person(\"Bob\", 25))\n",
    "\n",
    "val renderer = Renderer(renderingOptions = RenderingOptions(density = 80))\n",
    "renderer.render(\"example\", Diagram.sourceCodeCaption(people))\n",
    "Image.fromFile(\"example.png\")\n"
   ]
  },
  {
   "cell_type": "markdown",
   "metadata": {
    "slideshow": {
     "slide_type": "subslide"
    }
   },
   "source": [
    "# Notebooks Enable Rich Embedded Output\n",
    "\n",
    "<img class=\"float-left\" style=\"margin-top: 3%\" src=\"img/spark-shell-viz.png\" width=\"47%\" />\n",
    "<div class=\"float-left\" style=\"margin: 15% 3rem; font-size: 2em;\">➡</div>\n",
    "<img class=\"float-left\" src=\"img/spark-notebook-viz.png\" width=\"45%\" />"
   ]
  },
  {
   "attachments": {
    "image.png": {
     "image/png": "[encoded data removed]"
    }
   },
   "cell_type": "markdown",
   "metadata": {
    "slideshow": {
     "slide_type": "slide"
    }
   },
   "source": [
    "<h1 align=\"center\">Project Jupyter</h1>\n",
    "\n",
    "<img src=\"attachment:image.png\" width=\"90%\" />"
   ]
  },
  {
   "cell_type": "markdown",
   "metadata": {
    "slideshow": {
     "slide_type": "subslide"
    }
   },
   "source": [
    "# Jupyter History"
   ]
  },
  {
   "cell_type": "markdown",
   "metadata": {
    "cell_style": "split",
    "slideshow": {
     "slide_type": "-"
    }
   },
   "source": [
    "2001: IPython Shell\n",
    "<img src=\"img/ipython-6-screenshot.png\" width=\"80%\"/>\n",
    "\n",
    "2011: IPython Notebook\n",
    "<img src=\"img/ipython-notebook.png\" width=\"80%\" />"
   ]
  },
  {
   "cell_type": "markdown",
   "metadata": {
    "cell_style": "split",
    "slideshow": {
     "slide_type": "-"
    }
   },
   "source": [
    "2014: Project Jupyter (support for other languages besides Python)\n",
    " \n",
    "<img style=\"\" src=\"http://localhost:8888/static/base/images/logo.png\"/>\n",
    "\n",
    " <div class=\"flex-row\" style=\"width: 40%; margin: auto auto\">\n",
    "  <div class=\"flex-col-3\">\n",
    "    <img src=\"img/julia-dots.svg\" alt=\"Julia\">\n",
    "  </div>\n",
    "  <div class=\"flex-col-3\">\n",
    "    <img src=\"img/Python-logo-notext.svg\" alt=\"Python\">\n",
    "  </div>\n",
    "  <div class=\"flex-col-3\">\n",
    "    <img src=\"img/R_logo.svg\" alt=\"R\">\n",
    "  </div>\n",
    "</div> \n",
    "\n",
    "2018: JupyterLab (next generation UI)\n",
    "<img src=\"img/jupyterlab.png\" width=\"80%\" />"
   ]
  },
  {
   "cell_type": "markdown",
   "metadata": {
    "slideshow": {
     "slide_type": "subslide"
    }
   },
   "source": [
    "<h1 align=\"center\">High-Level Jupyter Architecture</h1>\n",
    "\n",
    "<img width=\"70%\" src=\"img/notebook_components.png\" alt=\"Jupyter components\"/>\n",
    "<p style=\"text-align:center;\"><em>(source: <a href=\"https://jupyter.readthedocs.io/en/latest/architecture/how_jupyter_ipython_work.html#id5\">Jupyter documentation</a>)</em></p>"
   ]
  },
  {
   "cell_type": "markdown",
   "metadata": {
    "slideshow": {
     "slide_type": "subslide"
    }
   },
   "source": [
    "# Jupyter Frontends\n",
    "\n",
    "* Classic Notebook - first Jupyter UI, still widely used\n",
    "* JupyterLab - modern frontend implementation\n",
    "* nteract - minimalistic desktop based frontend\n",
    "* Hydrogen atom plugin - worksheet like with Jupyter backend\n",
    "* IntelliJ and VS Code also have limited notebook support\n",
    " * Currently restricted to Python"
   ]
  },
  {
   "cell_type": "markdown",
   "metadata": {
    "slideshow": {
     "slide_type": "skip"
    }
   },
   "source": [
    "<h1 align=\"center\">JupyterLab</h1>\n",
    "\n"
   ]
  },
  {
   "cell_type": "markdown",
   "metadata": {
    "cell_style": "split",
    "slideshow": {
     "slide_type": "skip"
    }
   },
   "source": [
    "* Modernized UI\n",
    "* Modular, component based, modern web technologies\n",
    "* More than notebooks:\n",
    " * File manager\n",
    " * Editor\n",
    " * Terminal\n",
    " * Plugins\n",
    "* Close to a 1.0 release"
   ]
  },
  {
   "cell_type": "markdown",
   "metadata": {
    "cell_style": "split",
    "slideshow": {
     "slide_type": "skip"
    }
   },
   "source": [
    "![JupyterLab](img/jupyterlab.png)"
   ]
  },
  {
   "cell_type": "markdown",
   "metadata": {
    "slideshow": {
     "slide_type": "subslide"
    }
   },
   "source": [
    "# The Jupyter Protocol"
   ]
  },
  {
   "cell_type": "markdown",
   "metadata": {
    "cell_style": "split",
    "slideshow": {
     "slide_type": "skip"
    }
   },
   "source": [
    "<img class=\"float-left\" src=\"img/jupyter-protocol-screenshot.png\"/>\n",
    "\n"
   ]
  },
  {
   "cell_type": "markdown",
   "metadata": {
    "cell_style": "split",
    "slideshow": {
     "slide_type": "-"
    }
   },
   "source": [
    "<img src=\"img/jupyter-msg.png\"/>"
   ]
  },
  {
   "cell_type": "markdown",
   "metadata": {
    "slideshow": {
     "slide_type": "subslide"
    }
   },
   "source": [
    "# Kernels\n",
    "\n",
    "\n",
    "<img style=\"width: 60%;\" src=\"img/kernels-jlab-launcher.png\">\n",
    "\n",
    "\n",
    "* Responsible for running code\n",
    "* Don't know anything about notebooks\n",
    "* Can be implemented in any language\n",
    "  * Have to support the Jupyter protocol\n",
    "* ~ 100 different Kernels available"
   ]
  },
  {
   "cell_type": "markdown",
   "metadata": {
    "cell_style": "center",
    "slideshow": {
     "slide_type": "slide"
    }
   },
   "source": [
    "<h1 align=\"center\">The almond Scala Kernel</h1>\n",
    "<img src=\"img/almond-website.png\" width=\"65%\" />"
   ]
  },
  {
   "cell_type": "markdown",
   "metadata": {
    "slideshow": {
     "slide_type": "subslide"
    }
   },
   "source": [
    "# Ammonite Niceties"
   ]
  },
  {
   "cell_type": "markdown",
   "metadata": {
    "slideshow": {
     "slide_type": "-"
    }
   },
   "source": [
    "* Dynamic dependency resolution via Coursier"
   ]
  },
  {
   "cell_type": "code",
   "execution_count": null,
   "metadata": {
    "scrolled": false,
    "slideshow": {
     "slide_type": "-"
    }
   },
   "outputs": [],
   "source": [
    "import $ivy.`org.typelevel::squants:1.4.0`\n",
    "import squants.energy.Kilowatts, squants.time.Hours\n",
    "\n",
    "val load = Kilowatts(1.2)\n",
    "val time = Hours(2)\n",
    "val energyUsed = load * time"
   ]
  },
  {
   "cell_type": "markdown",
   "metadata": {
    "slideshow": {
     "slide_type": "fragment"
    }
   },
   "source": [
    "* Syntax highlighting and pretty printing"
   ]
  },
  {
   "cell_type": "code",
   "execution_count": null,
   "metadata": {
    "scrolled": true,
    "slideshow": {
     "slide_type": "-"
    }
   },
   "outputs": [],
   "source": [
    "Seq.fill(3)(Seq.fill(5)(f\"${scala.util.Random.nextFloat}%1.4f\"))"
   ]
  },
  {
   "cell_type": "markdown",
   "metadata": {
    "slideshow": {
     "slide_type": "subslide"
    }
   },
   "source": [
    "# Not A Full Blown IDE - But\n",
    "\n",
    "* Autocompletion for regular code and ivy imports\n",
    "* Type hints & metabrowse via shift + tab (work in progress)"
   ]
  },
  {
   "cell_type": "code",
   "execution_count": null,
   "metadata": {
    "scrolled": true,
    "slideshow": {
     "slide_type": "-"
    }
   },
   "outputs": [],
   "source": [
    "import $ivy.`org.typelevel::squants:1.4.0`\n",
    "\n",
    "Seq(\"alice\", \"bob\", \"charlie\").map(name => name.capitalize)"
   ]
  },
  {
   "cell_type": "markdown",
   "metadata": {
    "slideshow": {
     "slide_type": "subslide"
    }
   },
   "source": [
    "# Using the Ammonite API"
   ]
  },
  {
   "cell_type": "code",
   "execution_count": null,
   "metadata": {
    "scrolled": false,
    "slideshow": {
     "slide_type": "fragment"
    }
   },
   "outputs": [],
   "source": [
    "repl.history.takeRight(3).toList"
   ]
  },
  {
   "cell_type": "code",
   "execution_count": null,
   "metadata": {
    "scrolled": true,
    "slideshow": {
     "slide_type": "fragment"
    }
   },
   "outputs": [],
   "source": [
    "interp.repositories().last"
   ]
  },
  {
   "cell_type": "markdown",
   "metadata": {
    "slideshow": {
     "slide_type": "subslide"
    }
   },
   "source": [
    "# Rich Outputs with the almond Jupyter API"
   ]
  },
  {
   "cell_type": "code",
   "execution_count": null,
   "metadata": {
    "cell_style": "split",
    "scrolled": true,
    "slideshow": {
     "slide_type": "fragment"
    }
   },
   "outputs": [],
   "source": [
    "import almond.display._\n",
    "\n",
    "Html(\"Some <b>bold</b> text\")"
   ]
  },
  {
   "cell_type": "code",
   "execution_count": null,
   "metadata": {
    "cell_style": "split",
    "scrolled": false,
    "slideshow": {
     "slide_type": "fragment"
    }
   },
   "outputs": [],
   "source": [
    "Svg(\"\"\"<svg height=\"250\" xmlns=\"http://www.w3.org/2000/svg\">\n",
    "        <rect x=\"25\" y=\"25\" width=\"200\" height=\"200\" fill=\"lime\" stroke-width=\"4\" stroke=\"pink\" />\n",
    "        <circle cx=\"125\" cy=\"125\" r=\"75\" fill=\"orange\" />\n",
    "       </svg>\"\"\")"
   ]
  },
  {
   "cell_type": "code",
   "execution_count": null,
   "metadata": {
    "cell_style": "split",
    "slideshow": {
     "slide_type": "fragment"
    }
   },
   "outputs": [],
   "source": [
    "Image.from(url = \"http://localhost:8888/static/base/images/logo.png\")"
   ]
  },
  {
   "cell_type": "code",
   "execution_count": null,
   "metadata": {
    "cell_style": "split",
    "slideshow": {
     "slide_type": "fragment"
    }
   },
   "outputs": [],
   "source": [
    "Latex(\"\"\"$$e^x=\\sum_{i=0}^\\infty \\frac{1}{i!}x^i$$\"\"\")"
   ]
  },
  {
   "cell_type": "code",
   "execution_count": null,
   "metadata": {
    "scrolled": true,
    "slideshow": {
     "slide_type": "fragment"
    }
   },
   "outputs": [],
   "source": [
    "Javascript(\"alert('Hello')\") // JS execution is restricted in newer frontends"
   ]
  },
  {
   "cell_type": "markdown",
   "metadata": {
    "slideshow": {
     "slide_type": "subslide"
    }
   },
   "source": [
    "# Finally some Progress..."
   ]
  },
  {
   "cell_type": "code",
   "execution_count": null,
   "metadata": {
    "scrolled": true,
    "slideshow": {
     "slide_type": "fragment"
    }
   },
   "outputs": [],
   "source": [
    "val handle = ProgressBar(10,100)\n",
    "  .withHtmlWidth(\"100%\")\n",
    "  .withLabel(\"Overall Progress\")"
   ]
  },
  {
   "cell_type": "code",
   "execution_count": null,
   "metadata": {
    "scrolled": true,
    "slideshow": {
     "slide_type": "fragment"
    }
   },
   "outputs": [],
   "source": [
    "for {i <- 1 to 100} {\n",
    "  handle.withProgress(i).update()\n",
    "  Thread.sleep(30)\n",
    "}"
   ]
  },
  {
   "cell_type": "markdown",
   "metadata": {
    "slideshow": {
     "slide_type": "subslide"
    }
   },
   "source": [
    "# Reading User Input"
   ]
  },
  {
   "cell_type": "code",
   "execution_count": null,
   "metadata": {
    "scrolled": false,
    "slideshow": {
     "slide_type": "fragment"
    }
   },
   "outputs": [],
   "source": [
    "val result = Input().withPrompt(\">>> \").request()"
   ]
  },
  {
   "cell_type": "markdown",
   "metadata": {
    "slideshow": {
     "slide_type": "subslide"
    }
   },
   "source": [
    "# Updating Vars"
   ]
  },
  {
   "cell_type": "code",
   "execution_count": null,
   "metadata": {
    "scrolled": false,
    "slideshow": {
     "slide_type": "fragment"
    }
   },
   "outputs": [],
   "source": [
    "import scala.concurrent.Future\n",
    "implicit val ec = scala.concurrent.ExecutionContext.global\n",
    "\n",
    "val f = Future {\n",
    "  Thread.sleep(10000)\n",
    "  \"finished\"\n",
    "}\n",
    "\n",
    "val v = \"a val\"\n",
    "var x = \"a var that we'll update\"\n",
    "var y = \"another var\""
   ]
  },
  {
   "cell_type": "code",
   "execution_count": null,
   "metadata": {
    "scrolled": true,
    "slideshow": {
     "slide_type": "fragment"
    }
   },
   "outputs": [],
   "source": [
    "x = \"updated x\""
   ]
  },
  {
   "cell_type": "markdown",
   "metadata": {
    "slideshow": {
     "slide_type": "slide"
    }
   },
   "source": [
    "# Using the almond APIs for Library Integrations\n",
    "\n",
    "build.sbt of your library:\n",
    "```scala\n",
    "libraryDependencies += (\"sh.almond\" % \"scala-kernel-api\" % \"0.5.0\" % Provided)\n",
    "  .cross(CrossVersion.full))\n",
    "```\n",
    "Your library code:"
   ]
  },
  {
   "cell_type": "code",
   "execution_count": null,
   "metadata": {
    "scrolled": true,
    "slideshow": {
     "slide_type": "-"
    }
   },
   "outputs": [],
   "source": [
    "  def randomEmoji()(implicit kernel: almond.api.JupyterApi): Unit = {\n",
    "  val emoji = Character.toChars(scala.util.Random.nextInt(0x1F64F - 0x1F600) + 0x1F600).mkString\n",
    "  kernel.publish.html(s\"\"\"<p style=\"font-size:4em; text-align: center\">$emoji</p>\"\"\")}"
   ]
  },
  {
   "cell_type": "markdown",
   "metadata": {
    "slideshow": {
     "slide_type": "fragment"
    }
   },
   "source": [
    "Some notebook:"
   ]
  },
  {
   "cell_type": "code",
   "execution_count": null,
   "metadata": {
    "slideshow": {
     "slide_type": "-"
    }
   },
   "outputs": [],
   "source": [
    "// import $ivy.`my:library:1.0`\n",
    "randomEmoji()"
   ]
  },
  {
   "cell_type": "markdown",
   "metadata": {
    "slideshow": {
     "slide_type": "slide"
    }
   },
   "source": [
    "# Teaching with Notebooks"
   ]
  },
  {
   "cell_type": "markdown",
   "metadata": {
    "slideshow": {
     "slide_type": "subslide"
    }
   },
   "source": [
    "# How To Make Your Existing Documentation Interactive\n",
    "\n",
    "* Many tutorials are already Markdown with examples in code fences\n",
    "  * Often even checked via **tut** or **mdoc**\n",
    "* Notebook contents are very similar, just encoded differently (JSON)\n",
    "  * Tools like https://github.com/aaren/notedown let us convert markdown with code fences to notebooks"
   ]
  },
  {
   "cell_type": "markdown",
   "metadata": {
    "slideshow": {
     "slide_type": "subslide"
    }
   },
   "source": [
    "# Share Your Runnable Notebooks With Binder\n",
    "\n",
    "<img src=\"img/binder.png\" width=\"55%\" />\n",
    "\n",
    "# &rarr; [DEMO](https://mybinder.org/v2/gh/almond-sh/examples/master?urlpath=lab%2Ftree%2Fnotebooks%2Findex.ipynb) &larr;"
   ]
  },
  {
   "cell_type": "markdown",
   "metadata": {
    "slideshow": {
     "slide_type": "slide"
    }
   },
   "source": [
    "# Ok this looks cool, where do I find more Info?\n",
    "\n",
    "<h2 style=\"text-align: center;\"><a href=\"https://jupyter.org\">https://jupyter.org</a></h2>\n",
    "\n",
    "<h2 style=\"text-align: center;\"><a href=\"https://almond.sh\">https://almond.sh</a></h2>\n",
    "\n",
    "<h2 style=\"text-align: center;\"><a href=\"https://github.com/almond-sh/examples\">https://github.com/almond-sh/examples</a></h2>\n"
   ]
  },
  {
   "cell_type": "markdown",
   "metadata": {
    "slideshow": {
     "slide_type": "slide"
    }
   },
   "source": [
    "# Contributors Welcome!\n",
    "\n",
    "\n",
    "* We'd love to see\n",
    "  * More library/framework integrations\n",
    "  * More example notebooks\n",
    "  * Better IDE integration\n",
    "  * A logo :)\n",
    "\n",
    "<ul>\n",
    "    <li>Interested?\n",
    "        <ul style='list-style: none; margin-left: 0; '>\n",
    "            <li>&rArr; Talk to Alex (@alxarchambault) or me (@soebrunk)</li>\n",
    "            <li>&rArr; Join our Gitter channel: https://gitter.im/almond-sh/almond</li>\n",
    "            <li>&rArr; Or check out the almond repo on https://github.com/almond-sh/almond</li>\n",
    "        </ul>\n",
    "    </li>\n",
    "</ul>"
   ]
  },
  {
   "cell_type": "markdown",
   "metadata": {
    "slideshow": {
     "slide_type": "slide"
    }
   },
   "source": [
    "# Recap\n",
    "\n",
    "<img src=\"img/learning-phases-only.svg\" width=\"40%\" style=\"margin: 4rem auto;\" />\n",
    "\n",
    "* Jupyter notebooks\n",
    " * Integrate **documentation**, **runnable code** and **rich output** in a single document\n",
    " * Combine REPLs and worksheets\n",
    "\n",
    "* **almond** combines the power of Jupyter and Ammonite\n",
    " * Giving us first class interactive computing support in Scala"
   ]
  },
  {
   "cell_type": "markdown",
   "metadata": {
    "slideshow": {
     "slide_type": "slide"
    }
   },
   "source": [
    "<div>\n",
    "    <h1 style=\"text-align: center; margin-top:20%; margin-bottom: 20%; font-size: 2.5em\">\n",
    "      Questions?</h1>\n",
    "</div>\n",
    "\n",
    "<img src=\"img/logo-katana.svg\" class=\"float-left\" width=\"20%\" />\n",
    "\n",
    "<p style=\"text-align: right\">Sören Brunk</p>\n",
    "<p style=\"text-align: right\"><img style=\"display: inline; height: 1em\" src=\"img/Twitter_bird_logo_2012.svg\" /> @soebrunk</p>"
   ]
  }
 ],
 "metadata": {
  "celltoolbar": "Slideshow",
  "kernelspec": {
   "display_name": "Scala",
   "language": "scala",
   "name": "scala"
  },
  "language_info": {
   "codemirror_mode": "text/x-scala",
   "file_extension": ".scala",
   "mimetype": "text/x-scala",
   "name": "scala",
   "nbconvert_exporter": "script",
   "version": "2.12.8"
  },
  "rise": {
   "autolaunch": true,
   "controls": false,
   "showSlideNumber": "speaker",
   "slideNumber": false,
   "theme": "solarized",
   "transition": "linear"
  },
  "toc": {
   "base_numbering": 1,
   "nav_menu": {},
   "number_sections": false,
   "sideBar": true,
   "skip_h1_title": false,
   "title_cell": "Table of Contents",
   "title_sidebar": "Contents",
   "toc_cell": false,
   "toc_position": {
    "height": "calc(100% - 180px)",
    "left": "10px",
    "top": "150px",
    "width": "370.594px"
   },
   "toc_section_display": true,
   "toc_window_display": false
  }
 },
 "nbformat": 4,
 "nbformat_minor": 2
}
